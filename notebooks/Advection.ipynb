{
 "cells": [
  {
   "cell_type": "markdown",
   "metadata": {},
   "source": [
    "## Linear Advection\n",
    "\n",
    "In this notebook, we will explore the first-order upwind scheme for the advection equation.\n",
    "\n",
    "1. To run each of the following cells, use the keyboard shortcut **SHIFT** + **ENTER**, press the button ``run`` in the toolbar or find the option ``Cell > Run Cells`` from the menu bar. For more shortcuts, see ``Help > Keyboard Shortcuts``."
   ]
  },
  {
   "cell_type": "code",
   "execution_count": null,
   "metadata": {},
   "outputs": [],
   "source": [
    "# Configuration for visualizing the plots\n",
    "%matplotlib agg\n",
    "%config InlineBackend.figure_format = 'retina'"
   ]
  },
  {
   "cell_type": "markdown",
   "metadata": {},
   "source": [
    "2. Similarly, import the required Python modules"
   ]
  },
  {
   "cell_type": "code",
   "execution_count": null,
   "metadata": {},
   "outputs": [],
   "source": [
    "# Required modules\n",
    "import numpy as np\n",
    "import matplotlib.pyplot as plt\n",
    "\n",
    "from nbtools import init_plot, update_plot"
   ]
  },
  {
   "cell_type": "markdown",
   "metadata": {},
   "source": [
    "3. Run the cell containing the function ``advection``. Read the comments describing each of the steps."
   ]
  },
  {
   "cell_type": "code",
   "execution_count": null,
   "metadata": {},
   "outputs": [],
   "source": [
    "def advection(a, L, dx, dt, tf):\n",
    "    # Build grid\n",
    "    x = np.arange(0, L, dx)\n",
    "    n = len(x)\n",
    "    \n",
    "    # Initialize solution\n",
    "    u = np.exp(-40*(x-1/2)**2)\n",
    "    ut = np.zeros(u.shape)\n",
    "    \n",
    "    # Pre-compute CFL number\n",
    "    cfl = a*dt/dx\n",
    "    \n",
    "    # Prepare figure to plot\n",
    "    fig, ax = init_plot(x, u)\n",
    "    line, = ax.plot(x, u, 'o-', markersize=2, color='#bd0c00')\n",
    "    \n",
    "    # Advance solution in time\n",
    "    t = 0\n",
    "    while(t < tf):\n",
    "        for i in range(n):\n",
    "            # Enforce periodic boundary condition at x=0\n",
    "            if i == 0:\n",
    "                ut[i] = u[i] - cfl*(u[i]-u[n-1])\n",
    "            else:\n",
    "                ut[i] = u[i] - cfl*(u[i]-u[i-1])\n",
    "                \n",
    "        u[:] = ut[:]\n",
    "        t += dt\n",
    "    \n",
    "    # Indent next line to see animation\n",
    "    update_plot(u, fig, line)"
   ]
  },
  {
   "cell_type": "markdown",
   "metadata": {},
   "source": [
    "4. Now run the function ``advection`` providing\n",
    "    - ``a``: The advection speed equal to ``1``,\n",
    "    - ``L``: The domain length equal to ``1``,\n",
    "    - ``dx``: The grid spacing equal to ``0.01``,\n",
    "    - ``dt``: The time step size equal to ``0.01``,\n",
    "    - ``tf``: The final time equal to ``1``.\n",
    "    \n",
    "   Do not forget to indent the last line of the function using the ``Tab`` key if you want to see the animation. Note that the animation may be slow for small time-step sizes."
   ]
  },
  {
   "cell_type": "code",
   "execution_count": null,
   "metadata": {},
   "outputs": [],
   "source": [
    "# Assign the provided values to the following variables\n",
    "a = \n",
    "L = \n",
    "dx = \n",
    "dt = \n",
    "tf = \n",
    "\n",
    "advection(a, L, dx, dt, tf)"
   ]
  },
  {
   "cell_type": "markdown",
   "metadata": {},
   "source": [
    "5. Now, try calling the function ``advection`` again with the following sets of values\n",
    "    - ``a = 1``, ``L = 1``, ``dx = 0.1``, ``dt = 0.1``, ``tf = 1``,\n",
    "    - ``a = 1``, ``L = 1``, ``dx = 0.01``, ``dt = 0.1``, ``tf = 1``.\n",
    " \n",
    "   what behaviour do you observe?"
   ]
  },
  {
   "cell_type": "code",
   "execution_count": null,
   "metadata": {},
   "outputs": [],
   "source": [
    "# Call function advection using first set of values"
   ]
  },
  {
   "cell_type": "code",
   "execution_count": null,
   "metadata": {},
   "outputs": [],
   "source": [
    "# Call function advection using second set of values"
   ]
  },
  {
   "cell_type": "markdown",
   "metadata": {},
   "source": [
    "6. Can you think of a more efficient way to advance the solution in ``advection`` ?"
   ]
  }
 ],
 "metadata": {
  "kernelspec": {
   "display_name": "Python 3",
   "language": "python",
   "name": "python3"
  },
  "language_info": {
   "codemirror_mode": {
    "name": "ipython",
    "version": 3
   },
   "file_extension": ".py",
   "mimetype": "text/x-python",
   "name": "python",
   "nbconvert_exporter": "python",
   "pygments_lexer": "ipython3",
   "version": "3.7.3"
  }
 },
 "nbformat": 4,
 "nbformat_minor": 2
}
