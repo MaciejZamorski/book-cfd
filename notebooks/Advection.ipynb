{
 "cells": [
  {
   "cell_type": "markdown",
   "metadata": {},
   "source": [
    "# Linear Advection\n",
    "\n",
    "In this notebook, we will explore the first-order upwind scheme for the advection equation.\n",
    "\n",
    "To run each of the following cells, use the keyboard shortcut **SHIFT** + **ENTER**, press the button ``Run`` in the toolbar or find the option ``Cell > Run Cells`` from the menu bar. For more shortcuts, see ``Help > Keyboard Shortcuts``.\n",
    "\n",
    "To get started, import the required Python modules by running the cell below."
   ]
  },
  {
   "cell_type": "code",
   "execution_count": null,
   "metadata": {
    "tags": []
   },
   "outputs": [],
   "source": [
    "# Use interactive backend (change to %matplotlib notebook if not using jupyterlab)\n",
    "%matplotlib widget\n",
    "\n",
    "# Required modules\n",
    "import numpy as np\n",
    "import matplotlib.pyplot as plt\n",
    "\n",
    "# Import figure style and custom functions\n",
    "import nbtools as nb"
   ]
  },
  {
   "cell_type": "markdown",
   "metadata": {},
   "source": [
    "Run the cell containing the function ``advection_upwind``. Read the comments describing each of the steps."
   ]
  },
  {
   "cell_type": "code",
   "execution_count": null,
   "metadata": {},
   "outputs": [],
   "source": [
    "def advection_upwind(a, L, n, dt, tf):\n",
    "    # Build grid\n",
    "    dx = L/n\n",
    "    x = np.linspace(0, L - dx, n)\n",
    "\n",
    "    # Initialize solution\n",
    "    u = np.exp(-40 * (x - 1/2) ** 2)\n",
    "    ut = np.zeros(u.shape)\n",
    "\n",
    "    # Advance solution in time\n",
    "    t = 0\n",
    "    while(t < tf):\n",
    "        for i in range(n):\n",
    "            # Enforce periodic boundary condition at x=0\n",
    "            if i == 0:\n",
    "                ut[i] = u[i] - a*dt/dx * (u[i] - u[n - 1])\n",
    "            else:\n",
    "                ut[i] = u[i] - a*dt/dx * (u[i] - u[i - 1])\n",
    "\n",
    "        u[:] = ut[:]\n",
    "        t += dt\n",
    "\n",
    "    return u"
   ]
  },
  {
   "cell_type": "markdown",
   "metadata": {},
   "source": [
    "Now run the function ``advection_upwind`` setting\n",
    "   - ``a``: The advection speed equal to ``1``,\n",
    "   - ``L``: The domain length equal to ``1``,\n",
    "   - ``n``: The number of grid points equal to ``10``,\n",
    "   - ``dt``: The time step size equal to ``0.005``,\n",
    "   - ``tf``: The final time equal to ``1``."
   ]
  },
  {
   "cell_type": "code",
   "execution_count": null,
   "metadata": {},
   "outputs": [],
   "source": [
    "# Assign the corresponding values to the following variables\n",
    "a = \n",
    "L = \n",
    "n = \n",
    "dt = \n",
    "tf = \n",
    "\n",
    "# Run upwind advection problem\n",
    "u = advection_upwind(a, L, n, dt, tf)"
   ]
  },
  {
   "cell_type": "markdown",
   "metadata": {},
   "source": [
    "The solution can be plotted as follows"
   ]
  },
  {
   "cell_type": "code",
   "execution_count": null,
   "metadata": {},
   "outputs": [],
   "source": [
    "# Define plotting grid\n",
    "x = np.linspace(0, L - L/n, n)\n",
    "\n",
    "# Create figure instance\n",
    "fig, ax = plt.subplots()\n",
    "\n",
    "# Plot solution and add labels\n",
    "ax.plot(x, u, 'o-', markersize=2, label=f'$n={n}$')\n",
    "ax.set_xlabel('$x$')\n",
    "ax.set_ylabel('$u(x,t)$')\n",
    "ax.legend();"
   ]
  },
  {
   "cell_type": "markdown",
   "metadata": {},
   "source": [
    "Now, generate a plot with the results of `advection_upwind` with 10, 20, 40, 80 and 160 grid points together. Keep the rest of the variables the same. What behaviour do you observe? The result must be equal to the figure shown in the Linear Advection section of the Finite Difference chapter."
   ]
  },
  {
   "cell_type": "code",
   "execution_count": null,
   "metadata": {},
   "outputs": [],
   "source": [
    "fig, ax = plt.subplots()\n",
    "\n",
    "# Generate the grid and solution for the required numbers of grid points\n",
    "# You may use a for loop\n",
    "\n",
    "ax.set_xlabel('$x$')\n",
    "ax.set_ylabel('$u(x,t)$')\n",
    "ax.legend();"
   ]
  },
  {
   "cell_type": "markdown",
   "metadata": {},
   "source": [
    "Create a new figure, and play with different time step sizes. What is the maximum value of `dt` that gives a bounded solution?"
   ]
  },
  {
   "cell_type": "code",
   "execution_count": null,
   "metadata": {},
   "outputs": [],
   "source": [
    "fig, ax = plt.subplots()\n",
    "\n",
    "ax.set_xlabel('$x$')\n",
    "ax.set_ylabel('$u(x,t)$');"
   ]
  },
  {
   "cell_type": "markdown",
   "metadata": {},
   "source": [
    "Now it's time to write your own code for a central advection scheme. Repeat the exercise described for the first-order advection using ``dt=0.00001``. What can you observe?"
   ]
  },
  {
   "cell_type": "code",
   "execution_count": null,
   "metadata": {},
   "outputs": [],
   "source": []
  }
 ],
 "metadata": {
  "kernelspec": {
   "display_name": "Python 3 (ipykernel)",
   "language": "python",
   "name": "python3"
  },
  "language_info": {
   "codemirror_mode": {
    "name": "ipython",
    "version": 3
   },
   "file_extension": ".py",
   "mimetype": "text/x-python",
   "name": "python",
   "nbconvert_exporter": "python",
   "pygments_lexer": "ipython3",
   "version": "3.9.7"
  }
 },
 "nbformat": 4,
 "nbformat_minor": 4
}
