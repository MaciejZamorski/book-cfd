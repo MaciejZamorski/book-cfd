{
 "cells": [
  {
   "cell_type": "markdown",
   "metadata": {},
   "source": [
    "## Getting started\n",
    "\n",
    "In this notebook, we will get started with the Jupyter notebooks and will explore some fundamental Python functions and statements, which will be useful for the relevant coding in this course.\n",
    "\n",
    "To work with the notebooks in this course, you do not need to install Python in your system. However, we provide references on how to do this at the end of the notebook.\n",
    "\n",
    "To run each of the following cells, use the keyboard shortcut **SHIFT** + **ENTER**, press the button ``Run`` in the toolbar or find the option ``Cell > Run Cells`` from the menu bar. For more shortcuts, see ``Help > Keyboard Shortcuts``.\n",
    "\n",
    "Note that this is a brief introduction to Python, which will be useful for this course. Consulting the references at the end of this notebook is highly recommended."
   ]
  },
  {
   "cell_type": "markdown",
   "metadata": {},
   "source": [
    "### Conditionals and ``for`` loops"
   ]
  },
  {
   "cell_type": "markdown",
   "metadata": {},
   "source": [
    "To iterate over a sequence of elements, you can use a ``for`` loop statement.\n",
    "Observe the following list containing different numbers."
   ]
  },
  {
   "cell_type": "code",
   "execution_count": 2,
   "metadata": {},
   "outputs": [],
   "source": [
    "numbers = [-1, 8, -4, 5, 6, 8, 1, 0, 5, 5]"
   ]
  },
  {
   "cell_type": "markdown",
   "metadata": {},
   "source": [
    "We will return the sum of all values you input in ``numbers`` using a for loop. Note that a for-loop must end with a colon ``:``. "
   ]
  },
  {
   "cell_type": "code",
   "execution_count": 3,
   "metadata": {
    "scrolled": true
   },
   "outputs": [
    {
     "name": "stdout",
     "output_type": "stream",
     "text": [
      "33\n"
     ]
    }
   ],
   "source": [
    "total = 0\n",
    "for number in numbers:\n",
    "    total = total + number\n",
    "\n",
    "print(total)"
   ]
  },
  {
   "cell_type": "markdown",
   "metadata": {},
   "source": [
    "Instead of ``total = total + numbers``, you can use ``total += numbers`` for conciseness. Now, what if we want to add only the negative numbers? In this case an ``if``-statement is appropriate. Similar to the ``for``-loop, an ``if``-statement must end using ``:``."
   ]
  },
  {
   "cell_type": "code",
   "execution_count": 4,
   "metadata": {
    "scrolled": false
   },
   "outputs": [
    {
     "name": "stdout",
     "output_type": "stream",
     "text": [
      "-5\n"
     ]
    }
   ],
   "source": [
    "total = 0\n",
    "for number in numbers:\n",
    "    if number < 0:\n",
    "        total = total + number\n",
    "        \n",
    "print(total)"
   ]
  },
  {
   "cell_type": "markdown",
   "metadata": {},
   "source": [
    "#### Exercises \n",
    "Using ``for`` loops\n",
    "- Compute how many positive values there are in ``numbers``,\n",
    "- Compute how many negative values there are in ``numbers``,\n",
    "- Compute the sum of all the positive numbers."
   ]
  },
  {
   "cell_type": "code",
   "execution_count": 5,
   "metadata": {},
   "outputs": [],
   "source": [
    "# Write your functions here. To create a new cell, click on the left side of any cell and press \"a\" \n",
    "# in your keyboard. To delete, press \"d\" twice."
   ]
  },
  {
   "cell_type": "markdown",
   "metadata": {},
   "source": [
    "## Modules\n",
    "\n",
    "Modules are libraries which extend Python's functionality. Some modules that we will use \n",
    "\n",
    "- ``numpy``: adds supports for matrices and includes very useful mathematical functions. \n",
    "- ``sympy``: adds support for symbolic computation. This allows us to perform integration, differentiation and other useful operations analytically.\n",
    "- ``matplotib.pyplot``: adds support for generating plots.\n",
    "\n",
    "To make them accessible, we need to import them into our working space."
   ]
  },
  {
   "cell_type": "code",
   "execution_count": 5,
   "metadata": {},
   "outputs": [],
   "source": [
    "import numpy as np\n",
    "import sympy as sp\n",
    "import matplotlib.pyplot as plt"
   ]
  },
  {
   "cell_type": "markdown",
   "metadata": {},
   "source": [
    "Now we can use their functions. For example, we can compute the square root of a number by using"
   ]
  },
  {
   "cell_type": "code",
   "execution_count": 6,
   "metadata": {},
   "outputs": [],
   "source": [
    "number = 81\n",
    "result = np.sqrt(number)"
   ]
  },
  {
   "cell_type": "markdown",
   "metadata": {},
   "source": [
    "We will now explore some important functions that will come in handy during this course"
   ]
  },
  {
   "cell_type": "markdown",
   "metadata": {},
   "source": [
    "### Numpy "
   ]
  },
  {
   "cell_type": "markdown",
   "metadata": {},
   "source": [
    "#### Generate equally spaced vectors. \n",
    "\n",
    "There are several ways to do this. Let's look at the functions ``arange`` and ``linspace``.\n",
    "\n",
    "- ``arange`` creates a vector from ``start`` to ``end`` using a step. Note that the last value is not included. \n",
    "- ``linspace`` creates a vector from ``start`` to ``end`` and divides that range into ``total`` intervals."
   ]
  },
  {
   "cell_type": "code",
   "execution_count": 7,
   "metadata": {},
   "outputs": [],
   "source": [
    "start, end, step = 0, 11.0, 1\n",
    "vec1 = np.arange(start, end, step)\n",
    "\n",
    "start, end, total = 0, 10.0, 11\n",
    "vec2 = np.linspace(start, end, total)"
   ]
  },
  {
   "cell_type": "markdown",
   "metadata": {},
   "source": [
    "We can index these vectors using brackets"
   ]
  },
  {
   "cell_type": "code",
   "execution_count": 8,
   "metadata": {},
   "outputs": [
    {
     "data": {
      "text/plain": [
       "(0.0, 2.0, 4.0)"
      ]
     },
     "execution_count": 8,
     "metadata": {},
     "output_type": "execute_result"
    }
   ],
   "source": [
    "vec1[0], vec1[2], vec1[4]"
   ]
  },
  {
   "cell_type": "markdown",
   "metadata": {},
   "source": [
    "#### Create and perform operations with matrices and vectors"
   ]
  },
  {
   "cell_type": "code",
   "execution_count": 9,
   "metadata": {},
   "outputs": [],
   "source": [
    "A = np.zeros((5, 10))         # A 5x10 matrix of zeros\n",
    "B = np.ones((5, 10))          # A 5x10 matrix of ones\n",
    "I = np.eye(5)                 # An identity matrix of size 5x5\n",
    "R = np.random.rand(5, 10)     # A 5x10 matrix of random numbers x in [0, 1]"
   ]
  },
  {
   "cell_type": "markdown",
   "metadata": {},
   "source": [
    "Now, let's look at some vector/matrix operations. Note that ``*`` is element-wise multiplication and ``@`` implies matrix/vector multiplication. For example, run the following cells and see the output."
   ]
  },
  {
   "cell_type": "code",
   "execution_count": 10,
   "metadata": {},
   "outputs": [
    {
     "data": {
      "text/plain": [
       "array([[0.20544129, 0.21388956, 0.7703515 , 0.92768811, 0.78552326,\n",
       "        0.14913252, 0.80772225, 0.71967022, 0.44323799, 0.80020939],\n",
       "       [0.18870998, 0.09648724, 0.77803358, 0.34098545, 0.45587911,\n",
       "        0.22906041, 0.76240718, 0.55715494, 0.9410092 , 0.8299019 ],\n",
       "       [0.24679514, 0.58822126, 0.68044615, 0.22881779, 0.12414627,\n",
       "        0.67745088, 0.04762389, 0.04852383, 0.86368705, 0.14365675],\n",
       "       [0.14549557, 0.8990288 , 0.9331061 , 0.35945606, 0.76027303,\n",
       "        0.20032365, 0.08838841, 0.00739851, 0.6149887 , 0.86737212],\n",
       "       [0.21031502, 0.32748385, 0.68840376, 0.08813859, 0.19555493,\n",
       "        0.59448497, 0.88784091, 0.35873263, 0.09734105, 0.20854743]])"
      ]
     },
     "execution_count": 10,
     "metadata": {},
     "output_type": "execute_result"
    }
   ],
   "source": [
    "R * B                         # Elementwise multiplication Dij = Rij*Bij"
   ]
  },
  {
   "cell_type": "code",
   "execution_count": 11,
   "metadata": {},
   "outputs": [
    {
     "data": {
      "text/plain": [
       "array([[5.82286609, 5.82286609, 5.82286609, 5.82286609, 5.82286609],\n",
       "       [5.17962899, 5.17962899, 5.17962899, 5.17962899, 5.17962899],\n",
       "       [3.64936902, 3.64936902, 3.64936902, 3.64936902, 3.64936902],\n",
       "       [4.87583094, 4.87583094, 4.87583094, 4.87583094, 4.87583094],\n",
       "       [3.65684313, 3.65684313, 3.65684313, 3.65684313, 3.65684313]])"
      ]
     },
     "execution_count": 11,
     "metadata": {},
     "output_type": "execute_result"
    }
   ],
   "source": [
    "R @ B.T                       # Matrix multiplication. Dimensions must be right, use .T for transpose"
   ]
  },
  {
   "cell_type": "markdown",
   "metadata": {},
   "source": [
    "You can also apply mathematical functions to a complete vector of matrix. Some functions are ``np.sin, np.cos, np.exp ``, for example, we can compute $\\sin(2\\pi A)$ by"
   ]
  },
  {
   "cell_type": "code",
   "execution_count": 12,
   "metadata": {
    "scrolled": true
   },
   "outputs": [
    {
     "data": {
      "text/plain": [
       "array([[0., 0., 0., 0., 0., 0., 0., 0., 0., 0.],\n",
       "       [0., 0., 0., 0., 0., 0., 0., 0., 0., 0.],\n",
       "       [0., 0., 0., 0., 0., 0., 0., 0., 0., 0.],\n",
       "       [0., 0., 0., 0., 0., 0., 0., 0., 0., 0.],\n",
       "       [0., 0., 0., 0., 0., 0., 0., 0., 0., 0.]])"
      ]
     },
     "execution_count": 12,
     "metadata": {},
     "output_type": "execute_result"
    }
   ],
   "source": [
    "np.sin(2*np.pi*A)"
   ]
  },
  {
   "cell_type": "markdown",
   "metadata": {},
   "source": [
    "#### Exercises\n",
    "1. Create a vector of ones called ``v1`` with length 10\n",
    "2. Create a vector of even numbers called ``v2`` starting at 0 with the same length of ``v1``\n",
    "3. Compute the inner and outer product of these two vectors. \n",
    "    1. The inner product of two column vectors can be written $\\vec v_1^T \\cdot \\vec v_2$\n",
    "    2. The outer product of two column vectors can be written $\\vec v_1 \\cdot \\vec v_2^T$"
   ]
  },
  {
   "cell_type": "markdown",
   "metadata": {},
   "source": [
    "### Sympy\n",
    "\n",
    "#### Creating symbolic variables\n",
    "To create variables $x$, $y$ and $z$, run the following cell. Note that one or more variables can be created in a single line."
   ]
  },
  {
   "cell_type": "code",
   "execution_count": 13,
   "metadata": {},
   "outputs": [],
   "source": [
    "x = sp.symbols('x')                        # One at a time\n",
    "x, y, z = sp.symbols('x y z')              # Multiple at a time"
   ]
  },
  {
   "cell_type": "markdown",
   "metadata": {},
   "source": [
    "### Creating symbolic functions\n",
    "Using the variables we created in the previous cell, we will define the function\n",
    "$$ f(x) = x^4+0.5x^3-x^2+0.1+\\sin(x)$$\n",
    "where the power function in Python is specified with ``**``"
   ]
  },
  {
   "cell_type": "code",
   "execution_count": 14,
   "metadata": {},
   "outputs": [],
   "source": [
    "f = x**4 + 0.5*x**3 - x**2 + 0.1 + sp.sin(x)"
   ]
  },
  {
   "cell_type": "markdown",
   "metadata": {},
   "source": [
    "Note that when using symbolic computations, we can use ``sp.sin, sp.cos, sp.exp``, among others.\n",
    "\n",
    "We can derive or integrate our functions by"
   ]
  },
  {
   "cell_type": "code",
   "execution_count": 15,
   "metadata": {},
   "outputs": [],
   "source": [
    "fder = sp.diff(f, x)                      # Derivative of f, f'(x)\n",
    "fint1 = sp.integrate(f, (x, -1, 1))       # Definite integral from -1 to 1\n",
    "fint2 = sp.integrate(f, x)                # Indefinite integral"
   ]
  },
  {
   "cell_type": "markdown",
   "metadata": {},
   "source": [
    "We can evaluate our expressions at a point, for exaple $f(1)$ can be written as"
   ]
  },
  {
   "cell_type": "code",
   "execution_count": 16,
   "metadata": {
    "scrolled": true
   },
   "outputs": [
    {
     "data": {
      "text/latex": [
       "$\\displaystyle \\cos{\\left(1 \\right)} + 3.5$"
      ],
      "text/plain": [
       "cos(1) + 3.5"
      ]
     },
     "execution_count": 16,
     "metadata": {},
     "output_type": "execute_result"
    }
   ],
   "source": [
    "fder.subs(x, 1)"
   ]
  },
  {
   "cell_type": "markdown",
   "metadata": {},
   "source": [
    "#### Exercises\n",
    "1. Create the function $f(x) = e^{-40(x-0.5)^2}$\n",
    "2. Compute the indefinite integral of $f(x)$\n",
    "3. Compute the integral $\\int_{0}^{1} f(x)dx$"
   ]
  },
  {
   "cell_type": "markdown",
   "metadata": {},
   "source": [
    "### Matplotlib\n",
    "\n",
    "In order to plot our functions, we will first create a set of vectors.\n",
    "\n",
    "1. Create an equally spaced vector called ``X`` from $0$ to $2\\pi$ with 50 elements.\n",
    "2. Compute the vector $\\vec y=\\sin(\\vec x)$"
   ]
  },
  {
   "cell_type": "code",
   "execution_count": 79,
   "metadata": {},
   "outputs": [],
   "source": [
    "X = \n",
    "Y = "
   ]
  },
  {
   "cell_type": "markdown",
   "metadata": {},
   "source": [
    "To plot a simple curve, we use ``plt.plot(X, Y)``"
   ]
  },
  {
   "cell_type": "code",
   "execution_count": 81,
   "metadata": {},
   "outputs": [],
   "source": [
    "# Plot X vs Y"
   ]
  },
  {
   "cell_type": "markdown",
   "metadata": {},
   "source": [
    "You may add an additional curve to the plot simply by defining new values of ``Y`` and plotting them. For example, define $\\vec y_2 = \\cos(\\pi)$"
   ]
  },
  {
   "cell_type": "code",
   "execution_count": null,
   "metadata": {},
   "outputs": [],
   "source": [
    "Y2 = "
   ]
  },
  {
   "cell_type": "code",
   "execution_count": null,
   "metadata": {},
   "outputs": [],
   "source": [
    "# Plot X vs Y2. The plot above will update. To create a new plot, you must use plt.figure() before plotting"
   ]
  },
  {
   "cell_type": "markdown",
   "metadata": {},
   "source": [
    "### Additional References\n",
    "1. For general Python installation and programming, Corey Schafer provides a handful of videos on Youtube. We list some of the relevant videos\n",
    "    1. Installing Python (Mac OS & Windows) https://youtu.be/YYXdXT2l-Gg\n",
    "    2. Conditional statements https://youtu.be/DZwmZ8Usvnk\n",
    "    3. For loops and iterations https://youtu.be/6iF8Xb7Z3wQ\n",
    "    4. Introduction to Matplotlib https://youtu.be/UO98lJQ3QGI\n",
    "2. Derek Banas provides a crash course for Python in a single video https://youtu.be/H1elmMBnykA\n",
    "2. Other useful references can be found in the appropriate module documentations\n",
    "    1. Numpy basics https://numpy.org/doc/1.18/user/basics.html\n",
    "    2. Sympy basics https://docs.sympy.org/latest/tutorial/basic_operations.html\n",
    " "
   ]
  }
 ],
 "metadata": {
  "kernelspec": {
   "display_name": "Python 3",
   "language": "python",
   "name": "python3"
  },
  "language_info": {
   "codemirror_mode": {
    "name": "ipython",
    "version": 3
   },
   "file_extension": ".py",
   "mimetype": "text/x-python",
   "name": "python",
   "nbconvert_exporter": "python",
   "pygments_lexer": "ipython3",
   "version": "3.7.6"
  }
 },
 "nbformat": 4,
 "nbformat_minor": 2
}
