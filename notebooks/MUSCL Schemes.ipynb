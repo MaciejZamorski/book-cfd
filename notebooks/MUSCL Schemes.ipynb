{
 "cells": [
  {
   "cell_type": "markdown",
   "metadata": {},
   "source": [
    "## MUSCL Schemes\n",
    "\n",
    "In this notebook, we will explore high-order finite volume via MUSCL reconstruction.\n",
    "\n",
    "To run each of the following cells, use the keyboard shortcut **SHIFT** + **ENTER**, press the button ``Run`` in the toolbar or find the option ``Cell > Run Cells`` from the menu bar. For more shortcuts, see ``Help > Keyboard Shortcuts``.\n",
    "\n",
    "To get started, import the required Python modules by running the cell below."
   ]
  },
  {
   "cell_type": "code",
   "execution_count": null,
   "metadata": {},
   "outputs": [],
   "source": [
    "# Configuration for visualizing the plots\n",
    "%matplotlib notebook\n",
    "%config InlineBackend.figure_format = 'retina'\n",
    "\n",
    "# Required modules\n",
    "import numpy as np\n",
    "import matplotlib.pyplot as plt\n",
    "\n",
    "Import figure style and custom functions\n",
    "import nbtools as nb"
   ]
  },
  {
   "cell_type": "markdown",
   "metadata": {},
   "source": [
    "We wil implement finite-volume methods based on MUSCL reconstruction to solve \n",
    "\n",
    "\\begin{align}\n",
    "\t\\frac{\\partial u}{\\partial t} + \\frac{\\partial u}{\\partial x} = 0\n",
    "\\end{align}\n",
    "on a grid $x\\in[0,2]$ with periodic boundary conditions. \n",
    "\n",
    "Following the example in the textbook, we implement ``residual_muscl`` to compute the residual using the second-order upwind-biased method. For the advection scheme, we use a Riemann solver of the form $F_(u_L,u_R) = F(u_L)$. \n",
    "\n",
    "**Note**: Only ``dl`` is implemented due to the upwind Riemann solver. Later, you will need to implement the right slope ``dr``."
   ]
  },
  {
   "cell_type": "code",
   "execution_count": null,
   "metadata": {},
   "outputs": [],
   "source": [
    "def get_slope(u0, u1, u2, r):\n",
    "    # Linear reconstruction\n",
    "    return 0.5*(1 + r)*(u1 - u0) + 0.5*(1 - r)*(u2 - u1)\n",
    "\n",
    "def residual(u, a, dx):\n",
    "    res = 0.0*u\n",
    "    r = 1.0\n",
    "    for i in range(n):\n",
    "        # Interface i+1/2\n",
    "        if n == n - 1:\n",
    "            # Enforce periodic BC at x=L\n",
    "            dl = get_slope(u[i - 1], u[i], u[0], r)\n",
    "        else:\n",
    "            dl = get_slope(u[i - 1], u[i], u[i + 1], r)\n",
    "            \n",
    "        # Compute u_i+1/2,L\n",
    "        ul = \n",
    "        \n",
    "        # Compute f_i+1/2 using the upwind Riemann solver\n",
    "        fupw_R = \n",
    "        \n",
    "        # Interface i-i/2\n",
    "        dl = get_slope(u[i - 2], u[i - 1], u[i], r) \n",
    "        \n",
    "        # Compute u_i-1/2,L\n",
    "        ul = \n",
    "        \n",
    "        # Computr f_i-1/2 using the upwind Rieman solver\n",
    "        fupw_L = \n",
    "        \n",
    "        res[i] = -(fupw_R - fupw_L)/dx\n",
    "    return res"
   ]
  },
  {
   "cell_type": "markdown",
   "metadata": {},
   "source": [
    "To advance the solution in time, we provide the second-order midpoint method from the Time-Stepping Methods notebook."
   ]
  },
  {
   "cell_type": "code",
   "execution_count": null,
   "metadata": {},
   "outputs": [],
   "source": [
    "def advance_solution(ut, a, dx, dt, tf):\n",
    "    t = 0\n",
    "    while t < tf:\n",
    "        r = residual(ut, a, dx)\n",
    "        um = ut + 0.5*dt*r\n",
    "        rm = residual(um, a, dx)\n",
    "        uf = ut + 1.0*dt*rm\n",
    "        ut = 1.0*uf\n",
    "        t += dt \n",
    "    return ut"
   ]
  },
  {
   "cell_type": "markdown",
   "metadata": {},
   "source": [
    "The initial solution profile is given by\n",
    "\\begin{align}\n",
    "\tu(x, 0) &= \n",
    "\t\\begin{cases}\n",
    "\t\te^{-20(x-0.5)^2} & \\text{if } x < 1.2, \\\\ \n",
    "\t\t1 & \\text{if } 1.2 < x < 1.5,\t \\\\\n",
    "\t\t0 & \\text{otherwise}.\n",
    "\t\\end{cases}\n",
    "\\end{align}\n",
    "Complete the following cell to set the initial parameters of the problem. Consider\n",
    "- ``a = 1.0``\n",
    "- ``n = 300``\n",
    "- ``L = 2.0``\n",
    "- ``dt = 2e-3``\n",
    "- ``tf = 2.0``\n"
   ]
  },
  {
   "cell_type": "code",
   "execution_count": null,
   "metadata": {},
   "outputs": [],
   "source": [
    "a = \n",
    "n = \n",
    "L = \n",
    "dt = \n",
    "tf = \n",
    "\n",
    "# Calculate mesh spacing and grid points\n",
    "dx = L/n \n",
    "x = np.arange(0, L, dx)\n",
    "\n",
    "# Initialize the solution\n",
    "u0 = np.zeros(n)\n",
    "for i, xval in enumerate(x):\n",
    "    if xval < 1.2:\n",
    "        u0[i] =\n",
    "    if 1.2 < xval < 1.5:\n",
    "        u0[i] = \n",
    "    else:\n",
    "        u0[i] = "
   ]
  },
  {
   "cell_type": "markdown",
   "metadata": {},
   "source": [
    "Advance the solution using the time-stepping function provided above"
   ]
  },
  {
   "cell_type": "code",
   "execution_count": null,
   "metadata": {},
   "outputs": [],
   "source": [
    "u_adv = advance_solution(u0, a, dx, dt, tf)"
   ]
  },
  {
   "cell_type": "markdown",
   "metadata": {},
   "source": [
    "Compute the total variation (TV) of the initial and the final solution. Is this method TVD?\n",
    "\n",
    "Complete the TV calculation of the final solution."
   ]
  },
  {
   "cell_type": "code",
   "execution_count": null,
   "metadata": {},
   "outputs": [],
   "source": [
    "tv0 = np.sum(np.abs(u0[1:]-u[:-1]))\n",
    "tvf = \n",
    "\n",
    "if tvf <= tv0:\n",
    "    print('Scheme is TVD')\n",
    "else:\n",
    "    print('Scheme is not TVD')"
   ]
  },
  {
   "cell_type": "markdown",
   "metadata": {},
   "source": [
    "Plot your result for each implemented limiter"
   ]
  },
  {
   "cell_type": "code",
   "execution_count": null,
   "metadata": {},
   "outputs": [],
   "source": [
    "plt.figure(0)\n",
    "plt.plot(x, u_adv)"
   ]
  },
  {
   "cell_type": "markdown",
   "metadata": {},
   "source": [
    "To preserve the monotonicity of the scheme, we need to define limiter functions. Complete the ``van_leer`` and ``superbee`` limiters using the formulations shown in the textbook. Note the use of a tolerance variable ``1e-20`` to avoid divisions by zero."
   ]
  },
  {
   "cell_type": "code",
   "execution_count": null,
   "metadata": {},
   "outputs": [],
   "source": [
    "def minmod(a, b):\n",
    "    r = a/(b + 1e-20)\n",
    "    return max([0, min([1, r])])\n",
    "\n",
    "def van_leer(a, b):\n",
    "    # Complete limiter code\n",
    "    \n",
    "def superbee(a, b):\n",
    "    # Complete limiter code"
   ]
  },
  {
   "cell_type": "markdown",
   "metadata": {},
   "source": [
    "Modify the definition of the ``residual`` function (or rewrite it below) to include the limiters following the theory in the textbook. To facilitate the implementation, use the variable ``limiter(a,b)`` to obtain the values of the limiter. \n",
    "\n",
    "**Note**: No modification of the arguments in ``residual`` is necessary.\n",
    "\n",
    "For each of the limiter functions, generate a plot and compute the total variation"
   ]
  },
  {
   "cell_type": "code",
   "execution_count": null,
   "metadata": {},
   "outputs": [],
   "source": [
    "plt.figure(1)\n",
    "labels = ['minmod', 'van Leer', 'superbee']\n",
    "for i, limiter in zip([minmod, van_leer, superbee]):\n",
    "    u_adv = advance_solution(u0, a, dx, dt, tf)\n",
    "    plt.plot(x, u_adv, label=labels[i])\n",
    "plt.legend()"
   ]
  },
  {
   "cell_type": "markdown",
   "metadata": {},
   "source": [
    "## Activities\n",
    "- Modify the definition of ``get_slope`` to obtain a quadratic approximation of the slope at the boundaries. Repeat the exercises in the notebook using the new order. \n",
    "- What are the advantages and disadvantages of increasing the order of the scheme?\n",
    "- Modify the definition of ``residual`` to use a Riemann solver of the form $F(u_L, u_R)$. To achieve this, implement a function named ``riemann_solver`` and compute the ``dr`` slopes at each interface.\n",
    "- Rewrite ``riemann_solver`` using a Roe solver, to be used with the Burgers equation."
   ]
  },
  {
   "cell_type": "code",
   "execution_count": null,
   "metadata": {},
   "outputs": [],
   "source": []
  }
 ],
 "metadata": {
  "kernelspec": {
   "display_name": "Python 3",
   "language": "python",
   "name": "python3"
  },
  "language_info": {
   "codemirror_mode": {
    "name": "ipython",
    "version": 3
   },
   "file_extension": ".py",
   "mimetype": "text/x-python",
   "name": "python",
   "nbconvert_exporter": "python",
   "pygments_lexer": "ipython3",
   "version": "3.7.6"
  }
 },
 "nbformat": 4,
 "nbformat_minor": 2
}
