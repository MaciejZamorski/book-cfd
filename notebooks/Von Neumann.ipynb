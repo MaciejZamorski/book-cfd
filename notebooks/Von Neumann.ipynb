{
 "cells": [
  {
   "cell_type": "markdown",
   "metadata": {},
   "source": [
    "## Von Neumann Analysis\n",
    "\n",
    "In this notebook, we will explore the spectral properties of advection schemes.\n",
    "\n",
    "1. To run each of the following cells, use the keyboard shortcut **SHIFT** + **ENTER**, press the button ``run`` in the toolbar or find the option ``Cell > Run Cells`` from the menu bar. For more shortcuts, see ``Help > Keyboard Shortcuts``."
   ]
  },
  {
   "cell_type": "code",
   "execution_count": null,
   "metadata": {},
   "outputs": [],
   "source": [
    "# Configuration for visualizing the plots\n",
    "%matplotlib notebook\n",
    "%config InlineBackend.figure_format = 'retina'"
   ]
  },
  {
   "cell_type": "markdown",
   "metadata": {},
   "source": [
    "2. Import the required Python modules by running the following cell"
   ]
  },
  {
   "cell_type": "code",
   "execution_count": null,
   "metadata": {},
   "outputs": [],
   "source": [
    "# Required modules\n",
    "import numpy as np\n",
    "import matplotlib.pyplot as plt\n",
    "\n",
    "from nbtools import get_colors"
   ]
  },
  {
   "cell_type": "markdown",
   "metadata": {},
   "source": [
    "3. Define the amplification factor for the explicit advection scheme"
   ]
  },
  {
   "cell_type": "code",
   "execution_count": null,
   "metadata": {},
   "outputs": [],
   "source": [
    "def ampf_advection_explicit(sigma, kmdx):\n",
    "    amp = np.abs(1-sigma+sigma*np.exp(-1j*kmdx))\n",
    "    return amp"
   ]
  },
  {
   "cell_type": "markdown",
   "metadata": {},
   "source": [
    "4. Define the CFL numbers ``sigmas`` and wavenumbers times grid spacing ``kmdx``"
   ]
  },
  {
   "cell_type": "code",
   "execution_count": null,
   "metadata": {},
   "outputs": [],
   "source": [
    "sigma_start = 0.5\n",
    "sigma_end = 1.0\n",
    "\n",
    "sigmas = np.linspace(sigma_start, sigma_end, 6)\n",
    "kmdx = np.linspace(0, np.pi, 100)"
   ]
  },
  {
   "cell_type": "markdown",
   "metadata": {},
   "source": [
    "5. Generate the plots"
   ]
  },
  {
   "cell_type": "code",
   "execution_count": null,
   "metadata": {},
   "outputs": [],
   "source": [
    "# Initialize plot and colors\n",
    "fig, ax = plt.subplots()\n",
    "colors = get_colors(len(sigmas))\n",
    "\n",
    "for sigma, color in zip(sigmas, colors):\n",
    "    amp = ampf_advection_explicit(sigma, kmdx)\n",
    "    ax.plot(kmdx, amp, color=color, label=f'$\\sigma={sigma:.1f}$')\n",
    "\n",
    "# Display legend\n",
    "ax.legend()\n",
    "\n",
    "# Set x and y labels\n",
    "ax.set_xlabel(r'$\\kappa_m \\Delta x$')\n",
    "ax.set_ylabel(r'$|e^{a\\Delta t}|$')\n",
    "\n",
    "# Manually set tick labels as multiples of pi/4 (must change if range changes)\n",
    "plt.xticks([0, np.pi/4, np.pi/2, 3*np.pi/4, np.pi], \n",
    "           ['0', r'$\\frac{\\pi}{4}$',  r'$\\frac{\\pi}{2}$',  r'$\\frac{3\\pi}{4}$', r'$\\pi$'])"
   ]
  },
  {
   "cell_type": "markdown",
   "metadata": {},
   "source": [
    "6. Now try the amplification factor for the implicit advection scheme"
   ]
  },
  {
   "cell_type": "code",
   "execution_count": null,
   "metadata": {},
   "outputs": [],
   "source": [
    "def ampf_advection_implicit(sigma, kmdx):\n",
    "    # Complete the following line with the implicit advection amplification factor\n",
    "    amp = \n",
    "    return amp"
   ]
  },
  {
   "cell_type": "markdown",
   "metadata": {},
   "source": [
    "7. Since this scheme is unconditionally stable, we show the results for larger values of ``sigma``. Generate six values of sigma following the code in step #4."
   ]
  },
  {
   "cell_type": "code",
   "execution_count": null,
   "metadata": {},
   "outputs": [],
   "source": [
    "# Generate new values of sigma here\n",
    "sigma_start =\n",
    "sigma_end = \n",
    "\n",
    "# ..."
   ]
  },
  {
   "cell_type": "markdown",
   "metadata": {},
   "source": [
    "8. Complete line ``6`` in the code and generate the new plot"
   ]
  },
  {
   "cell_type": "code",
   "execution_count": null,
   "metadata": {},
   "outputs": [],
   "source": [
    "# Initialize plot and colors\n",
    "fig, ax = plt.subplots()\n",
    "colors = get_colors(len(sigmas))\n",
    "\n",
    "for sigma, color in zip(sigmas, colors):\n",
    "    amp = # Complete code here\n",
    "    ax.plot(kmdx, amp, color=color, label=f'$\\sigma={sigma:.0f}$')\n",
    "\n",
    "# Display legend\n",
    "ax.legend()\n",
    "\n",
    "# Set x and y labels\n",
    "ax.set_xlabel(r'$\\kappa_m \\Delta x$')\n",
    "ax.set_ylabel(r'$|e^{a\\Delta t}|$')\n",
    "\n",
    "# Manually set tick labels as multiples of pi/4 (must change if range changes)\n",
    "plt.xticks([0, np.pi/4, np.pi/2, 3*np.pi/4, np.pi], \n",
    "           ['0', r'$\\frac{\\pi}{4}$',  r'$\\frac{\\pi}{2}$',  r'$\\frac{3\\pi}{4}$', r'$\\pi$'])"
   ]
  }
 ],
 "metadata": {
  "kernelspec": {
   "display_name": "Python 3",
   "language": "python",
   "name": "python3"
  },
  "language_info": {
   "codemirror_mode": {
    "name": "ipython",
    "version": 3
   },
   "file_extension": ".py",
   "mimetype": "text/x-python",
   "name": "python",
   "nbconvert_exporter": "python",
   "pygments_lexer": "ipython3",
   "version": "3.6.9"
  }
 },
 "nbformat": 4,
 "nbformat_minor": 2
}
